{
  "cells": [
    {
      "cell_type": "markdown",
      "metadata": {
        "id": "view-in-github",
        "colab_type": "text"
      },
      "source": [
        "<a href=\"https://colab.research.google.com/github/Simranpreet2121/GenAI/blob/main/On_image_video_animation_generation.ipynb\" target=\"_parent\"><img src=\"https://colab.research.google.com/assets/colab-badge.svg\" alt=\"Open In Colab\"/></a>"
      ]
    },
    {
      "cell_type": "markdown",
      "source": [
        "# **Title of the Project** : AI Content Generation based on replicate API\n",
        "\n",
        "\n",
        "\n",
        "\n",
        "\n"
      ],
      "metadata": {
        "id": "M49lstKso4R4"
      }
    },
    {
      "cell_type": "markdown",
      "source": [
        "# Project Scope :\n",
        "The goal of this endeavor is to develop, expanding upon the work of the Replicate project, an AI system capable of efficiently creating images and GIFs. Improving the development of creative content via the use of powerful algorithms and Google Colab is the primary goal. This project's overarching goal is to provide an intuitive and flexible tool for creating a wide range of visual material. Making algorithms, making the tool customizable, and testing its performance are all part of this process.\n",
        "\n",
        "\n"
      ],
      "metadata": {
        "id": "ssJFs-pD6jnp"
      }
    },
    {
      "cell_type": "markdown",
      "source": [
        "* Komalpreet Kaur\n",
        "Student id: 4339079.  \n",
        "* Simranpreet Kaur\n",
        "Student id: 4346579\n",
        "\n",
        "\n"
      ],
      "metadata": {
        "id": "-ipdHktp9yIQ"
      }
    },
    {
      "cell_type": "code",
      "source": [],
      "metadata": {
        "id": "JHrg4aMMlLYm"
      },
      "execution_count": null,
      "outputs": []
    },
    {
      "cell_type": "markdown",
      "source": [
        "# Brief Discription :\n",
        "\n",
        "- The primary objective of this project is to develop an AI system capable of producing picture and GIF generation capabilities. The goal of this project is to build upon the work of the Replicate project. Using the advanced algorithms in Google Colab to generate more creative material will need a lot of algorithmic effort. The project is designed to cater to a broad variety of interests since it prioritizes user customisation.\n",
        "\n",
        "- A A predefined evaluation technique will be used to evaluate the algorithms' performance. The eventual objective is to provide a flexible and easy-to-use platform for creating visual content. From creative endeavors to multimedia creation, this instrument will find a home in many different spaces.\n",
        "\n"
      ],
      "metadata": {
        "id": "XidgDIqj7NDd"
      }
    },
    {
      "cell_type": "markdown",
      "source": [
        "# Objectives:\n",
        "\n",
        "To make GIFs and images, you'll have to construct a state-of-the-art Generative Adversarial Network (GAN). Using the much enhanced capabilities of Replicate is crucial for maximizing the model's potential. Application programming interfaces (APIs) will streamline the process of connecting to a plethora of extra data sources. Ensuring that the output variety and quality are not compromised is of utmost importance while simultaneously improving efficiency and scalability.\n",
        "\n",
        "\n",
        "\n",
        "\n",
        "\n",
        "\n",
        "\n",
        "\n",
        "\n",
        "\n"
      ],
      "metadata": {
        "id": "LIMZbAotNgUT"
      }
    },
    {
      "cell_type": "markdown",
      "source": [
        "# Outcomes:\n",
        "\n",
        "* Systematic Implementation of the Generative Adversarial Network (GAN):\n",
        "Create and train a GAN model by making use of Replicate's increased capabilities for the generation of GIFs and photos.\n",
        "Take use of more complex GAN architectures and training procedures in order to improve the variety and quality of the output.\n",
        "\n",
        "* Integrating with the APIs provided by Replicate:\n",
        "Use the application programming interfaces (APIs) that are given by Replicate to ease interactions with other data sources, potentially for the purpose of data enrichment or augmentation.\n",
        "If you want to improve your efficiency and scalability, you need make sure that Replicate's infrastructure is seamlessly integrated.\n",
        "\n",
        "* Expected Results and Outcomes:\n",
        "Making use of the GAN model that is driven by Replicate's capabilities, you may produce a wide variety of high-quality GIFs and photos in an efficient manner.\n",
        "Replicate's application programming interfaces (APIs) make it possible to streamline data access and use from a variety of sources, which enables more extensive analysis or model refinement.\n",
        "Despite the incorporation and exploitation of application programming interfaces (APIs) for the purpose of scalability and efficiency, that the quality and variety of the outputs that are created are not compromised in any way.\n",
        "\n"
      ],
      "metadata": {
        "id": "ouFrlqNB6ax4"
      }
    },
    {
      "cell_type": "markdown",
      "source": [
        "# Modification /New specification Cell\n",
        "* Among the adjustments is the installation of the replicate library via the use of pip, which allows for the production of content and the execution of models on the Replicate platform without any interruptions. Following this, the API token setup is shown in order to allow authentication between the Replicate notebook and the Colab notebook. To generate an image, one must first supply a prompt and then use replicate.run in conjunction with a model that has already been trained. For the purpose of creating videos and GIFs, a distinct model is used, which includes prompts for beginning and ending, the output format (GIF), and the ping-pong effect.\n",
        "\n",
        "## Impact:\n",
        "* Enhanced Versatility and Customization:\n",
        "\n",
        " - Importance: The modification using Replicate API is crucial for GenAI as it extends its capabilities by allowing seamless integration with various platforms and tools.\n",
        " - Impact: This enhancement enables GenAI users to customize and tailor their experience by integrating diverse data sources and third-party applications, thereby expanding its utility across different domains and use cases.\n",
        "\n",
        "* Improved Scalability and Performance:\n",
        "\n",
        "   - Importance: Upgrading GenAI with Replicate API facilitates scalability, allowing it to efficiently handle larger datasets and complex computations.\n",
        "   - Impact: This modification enhances GenAI's performance by leveraging Replicate API's capabilities to handle increased data loads, ensuring quicker processing times and improved efficiency for users.\n",
        "\n",
        "* Enabling Interoperability and Collaboration:\n",
        "\n",
        "   - Importance: Integrating Replicate API into GenAI promotes interoperability, fostering collaboration between different systems and users.\n",
        "   - Impact: With this modification, GenAI becomes more adaptable to industry standards and protocols, facilitating seamless data exchange and collaboration between different AI platforms and stakeholders.\n"
      ],
      "metadata": {
        "id": "1FQxZRo5-NXM"
      }
    },
    {
      "cell_type": "markdown",
      "source": [],
      "metadata": {
        "id": "45sfrfaK-cPp"
      }
    },
    {
      "cell_type": "markdown",
      "source": [
        "# Criteria Specific Cell\n",
        "\n",
        "Relevance in Data Visualization for Diabetes Dataset:\n",
        "\n",
        "* Predicting the likelihood of diabetes onset is highly relevant in today's context due to the increasing prevalence of diabetes globally.\n",
        "* Using AI-driven predictive models contributes to personalized medicine and preventive healthcare, aligning with the growing emphasis on individualized patient care.\n",
        "* Integrating Replicate's APIs aligns with the trend of leveraging external data sources, emphasizing the relevance of cross-domain data integration and analysis in decision-making processes.\n",
        "\n",
        "\n",
        "\n",
        "Innovation:\n",
        "\n",
        "* Integration of cutting-edge Generative Adversarial Networks (GANs) with Replicate's expanded capabilities demonstrates innovation in content generation technology.\n",
        "* The utilization of GANs for creating GIFs and images could lead to novel approaches in visual content generation, potentially advancing the field of AI-generated media.\n",
        "* Incorporating Replicate's APIs to interact with diverse data sources innovates the way data is accessed and utilized, enabling more robust and comprehensive analyses.\n",
        "\n",
        "Application:\n",
        "* Application of machine learning techniques, particularly in predicting diabetes onset, showcases practical and impactful use of data science in healthcare.\n",
        "* The developed models could be applied in clinical settings for early diabetes risk assessment, aiding healthcare professionals in preventive healthcare strategies for at-risk individuals.\n",
        "* The integration of APIs for streamlined data access and processing can be applied across various domains beyond healthcare, facilitating efficient data utilization in diverse industries.\n",
        "\n",
        "Technical Proficiency:\n",
        "\n",
        "* Expertise in Data Preprocessing: Capability in the methods of data preprocessing, including the management of missing values, outliers, normalization, and feature engineering, in order to guarantee the quality and dependability of the data.\n",
        "The ability to demonstrate skill in implementing a variety of machine learning algorithms for predictive modeling and assessing the effectiveness of these algorithms using measures such as accuracy, precision, and recall is referred to as machine learning competency.\n",
        "A proficiency in the use of visualization libraries and tools such as Matplotlib, Seaborn, or Plotly to generate meaningful, useful, and interactive visual representations for the purpose of data exploration is referred to as visualization skills.\n"
      ],
      "metadata": {
        "id": "LZX1oiB09M9C"
      }
    },
    {
      "cell_type": "markdown",
      "source": [
        "## 1.Installing the replicate library, which is an essential component for running models and publishing content via the Replicate platform, is accomplished by this cell through the use of the pip package manager.\n"
      ],
      "metadata": {
        "id": "03xL0Alon2h6"
      }
    },
    {
      "cell_type": "code",
      "execution_count": null,
      "metadata": {
        "colab": {
          "base_uri": "https://localhost:8080/"
        },
        "id": "K-f4rzIDbk8n",
        "outputId": "77decca9-842f-4086-d39b-cdd12e9afe57"
      },
      "outputs": [
        {
          "output_type": "stream",
          "name": "stdout",
          "text": [
            "Collecting replicate\n",
            "  Downloading replicate-0.21.1-py3-none-any.whl (35 kB)\n",
            "Collecting httpx<1,>=0.21.0 (from replicate)\n",
            "  Downloading httpx-0.25.2-py3-none-any.whl (74 kB)\n",
            "\u001b[2K     \u001b[90m━━━━━━━━━━━━━━━━━━━━━━━━━━━━━━━━━━━━━━━━\u001b[0m \u001b[32m75.0/75.0 kB\u001b[0m \u001b[31m4.0 MB/s\u001b[0m eta \u001b[36m0:00:00\u001b[0m\n",
            "\u001b[?25hRequirement already satisfied: packaging in /usr/local/lib/python3.10/dist-packages (from replicate) (23.2)\n",
            "Requirement already satisfied: pydantic>1 in /usr/local/lib/python3.10/dist-packages (from replicate) (1.10.13)\n",
            "Requirement already satisfied: typing-extensions>=4.5.0 in /usr/local/lib/python3.10/dist-packages (from replicate) (4.5.0)\n",
            "Requirement already satisfied: anyio in /usr/local/lib/python3.10/dist-packages (from httpx<1,>=0.21.0->replicate) (3.7.1)\n",
            "Requirement already satisfied: certifi in /usr/local/lib/python3.10/dist-packages (from httpx<1,>=0.21.0->replicate) (2023.11.17)\n",
            "Collecting httpcore==1.* (from httpx<1,>=0.21.0->replicate)\n",
            "  Downloading httpcore-1.0.2-py3-none-any.whl (76 kB)\n",
            "\u001b[2K     \u001b[90m━━━━━━━━━━━━━━━━━━━━━━━━━━━━━━━━━━━━━━━━\u001b[0m \u001b[32m76.9/76.9 kB\u001b[0m \u001b[31m9.7 MB/s\u001b[0m eta \u001b[36m0:00:00\u001b[0m\n",
            "\u001b[?25hRequirement already satisfied: idna in /usr/local/lib/python3.10/dist-packages (from httpx<1,>=0.21.0->replicate) (3.6)\n",
            "Requirement already satisfied: sniffio in /usr/local/lib/python3.10/dist-packages (from httpx<1,>=0.21.0->replicate) (1.3.0)\n",
            "Collecting h11<0.15,>=0.13 (from httpcore==1.*->httpx<1,>=0.21.0->replicate)\n",
            "  Downloading h11-0.14.0-py3-none-any.whl (58 kB)\n",
            "\u001b[2K     \u001b[90m━━━━━━━━━━━━━━━━━━━━━━━━━━━━━━━━━━━━━━━━\u001b[0m \u001b[32m58.3/58.3 kB\u001b[0m \u001b[31m7.7 MB/s\u001b[0m eta \u001b[36m0:00:00\u001b[0m\n",
            "\u001b[?25hRequirement already satisfied: exceptiongroup in /usr/local/lib/python3.10/dist-packages (from anyio->httpx<1,>=0.21.0->replicate) (1.2.0)\n",
            "Installing collected packages: h11, httpcore, httpx, replicate\n",
            "Successfully installed h11-0.14.0 httpcore-1.0.2 httpx-0.25.2 replicate-0.21.1\n"
          ]
        }
      ],
      "source": [
        "# @title Install Replicate\n",
        "!pip install replicate"
      ]
    },
    {
      "cell_type": "markdown",
      "source": [
        "##2. Within this code block, you provide the necessary settings for your Replicate API token in order to enable authentication. The API token, obtained from your Replicate account, facilitates smooth connection between your Colab notebook and the Replicate platform.\n"
      ],
      "metadata": {
        "id": "sFTSpliVoGgA"
      }
    },
    {
      "cell_type": "code",
      "execution_count": null,
      "metadata": {
        "id": "cFmhr3PSf4G2"
      },
      "outputs": [],
      "source": [
        "API = \"r8_ZYfa6rRkEazWv7v1S6vP460gPvJItEx0VKzgw\"\n",
        "import os\n",
        "\n",
        "os.environ[\"REPLICATE_API_TOKEN\"] = API #find it here: https://replicate.com/signin?next=/account/api-tokens\n"
      ]
    },
    {
      "cell_type": "markdown",
      "source": [
        "##3. This code cell generates a picture using the Replicate platform. The text establishes a specific instruction (\"wearing a VR headset\") and utilizes the duplicate function.Execute the function using a pre-trained model (stability-ai/stable-diffusion:27b93a2413e7f36cd83da926f3656280b2931564ff050bf9575f1fdf9bcd7478). The resultant picture is saved in the output variable.\n",
        "\n",
        "\n",
        "\n",
        "\n",
        "\n",
        "\n"
      ],
      "metadata": {
        "id": "99b2KkrToOPY"
      }
    },
    {
      "cell_type": "code",
      "execution_count": null,
      "metadata": {
        "colab": {
          "base_uri": "https://localhost:8080/"
        },
        "id": "0zz83wA6cqSF",
        "outputId": "01476e54-f018-4ad6-f0c0-05243f1df7b7"
      },
      "outputs": [
        {
          "output_type": "execute_result",
          "data": {
            "text/plain": [
              "['https://replicate.delivery/pbxt/TqY0eqD0Fi1AVCe90XKqw1tPrmTZ1MU4JX8CfnKIIPR5U99jA/out-0.png']"
            ]
          },
          "metadata": {},
          "execution_count": 6
        }
      ],
      "source": [
        "# @title Generate Image\n",
        "prompt = \"Girl drinking water\"\n",
        "import replicate\n",
        "\n",
        "output = replicate.run(\n",
        "  \"stability-ai/stable-diffusion:27b93a2413e7f36cd83da926f3656280b2931564ff050bf9575f1fdf9bcd7478\",\n",
        "  input={\"prompt\":prompt}\n",
        ")\n",
        "\n",
        "output"
      ]
    },
    {
      "cell_type": "markdown",
      "source": [
        "##4. The created picture is shown in this cell using the IPython picture class. The image's URL is taken from the output variable acquired in the previous cell.\n",
        "\n",
        "\n",
        "\n",
        "\n",
        "\n",
        "\n",
        "\n"
      ],
      "metadata": {
        "id": "0HNTesaHoSYo"
      }
    },
    {
      "cell_type": "code",
      "execution_count": null,
      "metadata": {
        "colab": {
          "base_uri": "https://localhost:8080/",
          "height": 533
        },
        "id": "hwXEISnemCLj",
        "outputId": "ac9d4706-3734-4f67-9348-521ffbb3b0a7"
      },
      "outputs": [
        {
          "output_type": "execute_result",
          "data": {
            "text/html": [
              "<img src=\"https://replicate.delivery/pbxt/TqY0eqD0Fi1AVCe90XKqw1tPrmTZ1MU4JX8CfnKIIPR5U99jA/out-0.png\"/>"
            ],
            "text/plain": [
              "<IPython.core.display.Image object>"
            ]
          },
          "metadata": {},
          "execution_count": 7
        }
      ],
      "source": [
        "\n",
        "from IPython.display import Image\n",
        "output_image = output\n",
        "Image(url=output_image[0])"
      ]
    },
    {
      "cell_type": "markdown",
      "source": [
        "##5. This cell generates a video or GIF animation using an alternative model. The user specifies the first and final prompts, selects the output format as GIF, and enables the ping-pong effect. The resultant output is saved in the output variable.\n"
      ],
      "metadata": {
        "id": "tlvYwhh7oVq_"
      }
    },
    {
      "cell_type": "code",
      "execution_count": null,
      "metadata": {
        "colab": {
          "base_uri": "https://localhost:8080/"
        },
        "id": "Misa5E4QiWNZ",
        "outputId": "dce1710d-a9a8-4ca3-f7c4-ca765db35d9b"
      },
      "outputs": [
        {
          "output_type": "execute_result",
          "data": {
            "text/plain": [
              "<generator object Prediction.output_iterator at 0x789836c04660>"
            ]
          },
          "metadata": {},
          "execution_count": 8
        }
      ],
      "source": [
        "# @title Video/gif/animation/Generation\n",
        "import replicate\n",
        "\n",
        "output = replicate.run(\n",
        "    \"andreasjansson/stable-diffusion-animation:ca1f5e306e5721e19c473e0d094e6603f0456fe759c10715fcd6c1b79242d4a5\",\n",
        "    input={\n",
        "        \"prompt_start\": \"wearing Shoes\",\n",
        "        \"prompt_end\": \"Removing Shoes\",\n",
        "        \"output_format\": \"gif\",\n",
        "        \"gif_ping_pong\": True\n",
        "    }\n",
        ")\n",
        "\n",
        "output\n"
      ]
    },
    {
      "cell_type": "markdown",
      "source": [
        "## 6. The URL link to the generated video is shown in this box. The link is derived from the output variable and functions as a method to get and see the video material.\n",
        "\n",
        "\n",
        "\n",
        "\n",
        "\n",
        "\n"
      ],
      "metadata": {
        "id": "kNNm0SY7oY1P"
      }
    },
    {
      "cell_type": "code",
      "execution_count": null,
      "metadata": {
        "colab": {
          "base_uri": "https://localhost:8080/"
        },
        "id": "BB0LZJTyjA7Z",
        "outputId": "35eaf4fa-12d6-47f6-cbe2-d3237af81ccd"
      },
      "outputs": [
        {
          "output_type": "stream",
          "name": "stdout",
          "text": [
            "https://replicate.delivery/pbxt/hxpPXhVe6AS4VyjpCA5ZpEvfQ6PGfxv6jpURvdGa7OUxa99jA/video.gif\n"
          ]
        }
      ],
      "source": [
        "# @title generate video\n",
        "for item in output:\n",
        "     #https://replicate.com/andreasjansson/stable-diffusion-animation/versions/ca1f5e306e5721e19c473e0d094e6603f0456fe759c10715fcd6c1b79242d4a5/api#output-schema\n",
        "    print(item)"
      ]
    },
    {
      "cell_type": "markdown",
      "source": [
        "## 7. The URL link to the generated movie is taken from this cell for later use in the Colab notebook.\n",
        "\n",
        "\n",
        "\n",
        "\n",
        "\n",
        "\n"
      ],
      "metadata": {
        "id": "w6fZwjtKoggI"
      }
    },
    {
      "cell_type": "code",
      "execution_count": null,
      "metadata": {
        "id": "fuPgsixhkxM4"
      },
      "outputs": [],
      "source": [
        "# @title get the video on colab\n",
        "gif_url= item[0:len(item)]"
      ]
    },
    {
      "cell_type": "markdown",
      "source": [
        " ## 8. inside this part, the notebook fetches the generated video, displays it inside the notebook, saves it locally as \"gif_output.gif,\" and opens the stored GIF using the PIL library. If there is a problem with acquiring the GIF, a matching notification is shown.\n",
        "\n",
        "\n",
        "\n",
        "\n",
        "\n",
        "\n"
      ],
      "metadata": {
        "id": "Hmz6QKmwUmw6"
      }
    },
    {
      "cell_type": "code",
      "execution_count": null,
      "metadata": {
        "colab": {
          "base_uri": "https://localhost:8080/",
          "height": 533
        },
        "id": "6VPPvsE3km93",
        "outputId": "dfbb8fda-1da6-4d69-c2d2-95ab68e15183"
      },
      "outputs": [
        {
          "output_type": "display_data",
          "data": {
            "text/html": [
              "<img src=\"https://replicate.delivery/pbxt/hxpPXhVe6AS4VyjpCA5ZpEvfQ6PGfxv6jpURvdGa7OUxa99jA/video.gif\"/>"
            ],
            "text/plain": [
              "<IPython.core.display.Image object>"
            ]
          },
          "metadata": {}
        }
      ],
      "source": [
        "# @title Show the video\n",
        "import requests\n",
        "from IPython.display import display, Image\n",
        "from PIL import Image as PILImage\n",
        "from io import BytesIO\n",
        "response = requests.get(gif_url)\n",
        "if response.status_code == 200:\n",
        "    # Display the GIF in the notebook\n",
        "    display(Image(url=gif_url))\n",
        "\n",
        "    # Save the GIF in the Colab environment\n",
        "    with open(\"gif_output.gif\", \"wb\") as f:\n",
        "        f.write(response.content)\n",
        "\n",
        "    # Show a saved GIF using PIL\n",
        "    saved_gif = PILImage.open(\"gif_output.gif\")\n",
        "    saved_gif.show()\n",
        "else:\n",
        "    print(\"Failed to fetch GIF\")\n"
      ]
    },
    {
      "cell_type": "markdown",
      "source": [
        "# References\n",
        "\n",
        "* Hotpot.ai. (n.d.). AI Art Generator - AI Image Generator API. https://hotpot.ai/art-generator\n",
        "* Replicate.  Replicate. https://replicate.com/\n",
        "* Fotor. (n.d.). AI Image Generator - Text to image online for free | Fotor. https://www.fotor.com/ai-image-generator/\n",
        "* AI Animation Generator • AI API, workflow & prompt shared on Gooey.AI. https://gooey.ai/animation-generator/\n",
        "* Module: display — IPython 8.18.1 documentation. https://ipython.readthedocs.io/en/stable/api/generated/IPython.display.html\n",
        "\n"
      ],
      "metadata": {
        "id": "_Lj16ky3-Wip"
      }
    },
    {
      "cell_type": "markdown",
      "source": [
        "#Video\n",
        "https://drive.google.com/file/d/1gu3BtqnP7bBcYso-kmriTqubasPvLNY7/view?usp=sharing\n",
        "\n",
        "\n",
        "# Thank you\n",
        "\n",
        "---"
      ],
      "metadata": {
        "id": "LX6Dmm0EV0DT"
      }
    }
  ],
  "metadata": {
    "colab": {
      "provenance": [],
      "include_colab_link": true
    },
    "kernelspec": {
      "display_name": "Python 3",
      "name": "python3"
    },
    "language_info": {
      "name": "python"
    }
  },
  "nbformat": 4,
  "nbformat_minor": 0
}